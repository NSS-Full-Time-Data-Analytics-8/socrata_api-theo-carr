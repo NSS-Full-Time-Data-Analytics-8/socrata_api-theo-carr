{
 "cells": [
  {
   "cell_type": "code",
   "execution_count": null,
   "id": "50860b92",
   "metadata": {},
   "outputs": [],
   "source": [
    "import requests\n",
    "import pandas as pd\n",
    "import matplotlib.pyplot as plt\n",
    "import matplotlib.dates as mdates\n",
    "%matplotlib inline"
   ]
  },
  {
   "cell_type": "markdown",
   "id": "ea8a65be",
   "metadata": {},
   "source": [
    "# Testing Response/Result"
   ]
  },
  {
   "cell_type": "code",
   "execution_count": null,
   "id": "f6e4c630",
   "metadata": {},
   "outputs": [],
   "source": [
    "endpoint = \"https://data.nashville.gov/resource/fuaa-r5cm.json\""
   ]
  },
  {
   "cell_type": "code",
   "execution_count": null,
   "id": "aad12d2e",
   "metadata": {},
   "outputs": [],
   "source": [
    "response = requests.get(endpoint)\n",
    "response"
   ]
  },
  {
   "cell_type": "code",
   "execution_count": null,
   "id": "4a423a00",
   "metadata": {},
   "outputs": [],
   "source": [
    "result = response.json()"
   ]
  },
  {
   "cell_type": "code",
   "execution_count": null,
   "id": "e8bc408d",
   "metadata": {},
   "outputs": [],
   "source": [
    "result"
   ]
  },
  {
   "cell_type": "markdown",
   "id": "e958068f",
   "metadata": {},
   "source": [
    "# Question 1\n",
    "### Make an API request that returns the months where \"fire\" was searched in 2016, which month had the most searches?"
   ]
  },
  {
   "cell_type": "code",
   "execution_count": null,
   "id": "6a3c5cbb",
   "metadata": {},
   "outputs": [],
   "source": [
    "endpoint = \"https://data.nashville.gov/resource/fuaa-r5cm.json\"\n",
    "fire_params = {'query_text':'fire','year': '2016'}"
   ]
  },
  {
   "cell_type": "code",
   "execution_count": null,
   "id": "60072d75",
   "metadata": {},
   "outputs": [],
   "source": [
    "fire_response = requests.get(endpoint,params=fire_params)"
   ]
  },
  {
   "cell_type": "code",
   "execution_count": null,
   "id": "4bf22952",
   "metadata": {},
   "outputs": [],
   "source": [
    "fire_response"
   ]
  },
  {
   "cell_type": "code",
   "execution_count": null,
   "id": "12d104b2",
   "metadata": {},
   "outputs": [],
   "source": [
    "fire_result = fire_response.json()"
   ]
  },
  {
   "cell_type": "markdown",
   "id": "39a72a9c",
   "metadata": {},
   "source": [
    "which month had the most searches?"
   ]
  },
  {
   "cell_type": "code",
   "execution_count": null,
   "id": "27bcaa0e",
   "metadata": {},
   "outputs": [],
   "source": [
    "month_list = []\n",
    "query_count_list = []\n",
    "query_text_list = []\n",
    "for month in fire_result:\n",
    "    for key,val in month.items():\n",
    "        if key == 'month_name':\n",
    "            month_list.append(val)\n",
    "        elif key == 'query_count':\n",
    "            query_count_list.append(val)\n",
    "#make dataframe outside of forloop\n",
    "fire_2016 = pd.DataFrame({'month':month_list, 'query_count':query_count_list})\n"
   ]
  },
  {
   "cell_type": "code",
   "execution_count": null,
   "id": "908d50f2",
   "metadata": {},
   "outputs": [],
   "source": [
    "fire_2016.sort_values(by = 'query_count', ascending=False)"
   ]
  },
  {
   "cell_type": "markdown",
   "id": "223c8e59",
   "metadata": {},
   "source": [
    "Answer: August had the highest amount of searches"
   ]
  },
  {
   "cell_type": "markdown",
   "id": "0277def2",
   "metadata": {},
   "source": [
    "# Question 2 \n",
    "### Make an API request that returns all the times a query was run more that 100 times in a month. How many times did this occur?"
   ]
  },
  {
   "cell_type": "code",
   "execution_count": null,
   "id": "f5f1c722",
   "metadata": {},
   "outputs": [],
   "source": [
    "params = {'$where':'query_count > 100', '$limit':'100000'}\n",
    "response = requests.get(endpoint, params=params)\n",
    "result = response.json()\n",
    "result"
   ]
  },
  {
   "cell_type": "code",
   "execution_count": null,
   "id": "7a5e0aa8",
   "metadata": {},
   "outputs": [],
   "source": [
    "len(result)"
   ]
  },
  {
   "cell_type": "markdown",
   "id": "09254b3e",
   "metadata": {},
   "source": [
    "Answer: This occured 1262 times"
   ]
  },
  {
   "cell_type": "markdown",
   "id": "e0cdf08b",
   "metadata": {},
   "source": [
    "# Question 3\n",
    "### Make another API request that returns all the times \"codes\" was serached more than 100 times in a month. How many times did this occur?"
   ]
  },
  {
   "cell_type": "code",
   "execution_count": null,
   "id": "d612b8f1",
   "metadata": {},
   "outputs": [],
   "source": [
    "params = {'$where':'query_count > 100', 'query_text':'codes'}\n",
    "\n",
    "response = requests.get(endpoint,params=params)\n",
    "result = response.json()\n",
    "result"
   ]
  },
  {
   "cell_type": "code",
   "execution_count": null,
   "id": "b18b588d",
   "metadata": {},
   "outputs": [],
   "source": [
    "len(result)"
   ]
  },
  {
   "cell_type": "markdown",
   "id": "5a803bac",
   "metadata": {},
   "source": [
    "Answer: This occured 56 times"
   ]
  },
  {
   "cell_type": "markdown",
   "id": "fdbf9164",
   "metadata": {},
   "source": [
    "# Question 4\n",
    "### Make an API request that returns the entire top 500 monthly searches dataset. Make a chart that shows the number of times \"maps\" was searched in a month across the entire time frame."
   ]
  },
  {
   "cell_type": "code",
   "execution_count": null,
   "id": "44cd9fbe",
   "metadata": {},
   "outputs": [],
   "source": [
    "#step one: bring in the entire top 500 dataset\n",
    "params = {'$limit':'100000'}\n",
    "response = requests.get(endpoint, params=params)\n",
    "result = response.json()\n",
    "result"
   ]
  },
  {
   "cell_type": "code",
   "execution_count": null,
   "id": "571aa564",
   "metadata": {},
   "outputs": [],
   "source": [
    "len(result)"
   ]
  },
  {
   "cell_type": "code",
   "execution_count": null,
   "id": "3c57020a",
   "metadata": {},
   "outputs": [],
   "source": [
    "# step two: turn into a dataframe?\n",
    "top500 = pd.DataFrame(result)"
   ]
  },
  {
   "cell_type": "code",
   "execution_count": null,
   "id": "6670cf94",
   "metadata": {},
   "outputs": [],
   "source": [
    "top500"
   ]
  },
  {
   "cell_type": "code",
   "execution_count": null,
   "id": "c752272c",
   "metadata": {},
   "outputs": [],
   "source": [
    "# step three: loc onto searches that are related to maps\n",
    "maps = top500.loc[top500['query_text'] == 'maps']"
   ]
  },
  {
   "cell_type": "code",
   "execution_count": null,
   "id": "de6d894f",
   "metadata": {},
   "outputs": [],
   "source": [
    "#step four: fix data types of maps dataframe\n",
    "maps['query_count'] = maps['query_count'].astype('int')"
   ]
  },
  {
   "cell_type": "code",
   "execution_count": null,
   "id": "7647a6fb",
   "metadata": {},
   "outputs": [],
   "source": [
    "#step five: sum by month\n",
    "month_counts = maps.groupby('month_name').sum()\n",
    "\n",
    "new_order = ['January', 'February', 'March', 'April', 'May', 'June', 'July', 'August', 'September', 'October', 'November', 'December']\n",
    "month_counts = month_counts.reindex(new_order, axis=0)\n",
    "\n",
    "#need to reset index\n",
    "month_counts = month_counts.rename_axis('month_name').reset_index()\n",
    "#show\n",
    "month_counts"
   ]
  },
  {
   "cell_type": "code",
   "execution_count": null,
   "id": "df9f73ba",
   "metadata": {},
   "outputs": [],
   "source": [
    "#step 6: plot months dataframe\n",
    "fig,ax = plt.subplots(figsize=(12,6))\n",
    "ax.plot(month_counts['month_name'],month_counts['query_count'])"
   ]
  },
  {
   "cell_type": "markdown",
   "id": "67a741ad",
   "metadata": {},
   "source": [
    "# Stretch Questions\n"
   ]
  },
  {
   "cell_type": "markdown",
   "id": "6a11c7a1",
   "metadata": {},
   "source": [
    "# Question 5 \n",
    "### Open Ended: Compare pull from 311 service requests dataset with pull from top 500 searches dataset"
   ]
  },
  {
   "cell_type": "code",
   "execution_count": null,
   "id": "0702fc26",
   "metadata": {},
   "outputs": [],
   "source": [
    "endpoint = \"https://data.nashville.gov/resource/7qhx-rexh.json\"\n",
    "\n",
    "#params = {'$limit': '1000000'} #commented out because it takes awhile to run this cell with limit at\n",
    "#one million\n",
    "response = requests.get(endpoint) #,params=params #if you want to see that there is more than million\n",
    "result = response.json()\n",
    "len(result)"
   ]
  },
  {
   "cell_type": "code",
   "execution_count": null,
   "id": "6ddae2eb",
   "metadata": {},
   "outputs": [],
   "source": [
    "result"
   ]
  },
  {
   "cell_type": "markdown",
   "id": "f7cc585f",
   "metadata": {},
   "source": [
    "**Observations**\n",
    "- the dataset is significantly larger, with more than 1,000,000 cases\n",
    "- there is a lot of information with each entry, including geographic information"
   ]
  },
  {
   "cell_type": "markdown",
   "id": "f6d1f62f",
   "metadata": {},
   "source": [
    "# **Question Six**\n",
    "### Find 2 new datasets on data.nashville.gov, make API requests to pull the data, and do an analysis that combines the datasets"
   ]
  },
  {
   "cell_type": "markdown",
   "id": "96196557",
   "metadata": {},
   "source": [
    "**Combining Fire Stations and Active Fire Service Dispatch Requests**\n",
    "1. Fire stations\n",
    "2. Active Requests"
   ]
  },
  {
   "cell_type": "markdown",
   "id": "e2ab50d3",
   "metadata": {},
   "source": [
    "#### Fire Stations"
   ]
  },
  {
   "cell_type": "code",
   "execution_count": null,
   "id": "d8d82e0c",
   "metadata": {},
   "outputs": [],
   "source": [
    "## Bring in FireStations Data\n",
    "endpoint = \"https://data.nashville.gov/resource/frq9-a5iv.json\" #fire stations endpoint\n",
    "\n",
    "response = requests.get(endpoint)\n",
    "stations = response.json()\n",
    "stations_df = pd.DataFrame(stations) "
   ]
  },
  {
   "cell_type": "code",
   "execution_count": null,
   "id": "18f1fd1d",
   "metadata": {},
   "outputs": [],
   "source": [
    "delcol = (['mapped_location', ':@computed_region_gisn_y5cm', \n",
    "           ':@computed_region_sjpq_96s8',':@computed_region_v3ji_vzam',\n",
    "           ':@computed_region_c9xn_skx3',':@computed_region_cfa7_hbpz',\n",
    "            ':@computed_region_f73m_vb2k', 'street_address','city','state'])\n",
    "station_count = stations_df.groupby('zip_code').count().drop(columns = delcol)\n",
    "station_count = station_count.rename_axis('zip_code').reset_index()\n",
    "station_count = station_count.rename(columns = {'station_number':'num_stations'})\n",
    "station_count"
   ]
  },
  {
   "cell_type": "markdown",
   "id": "c26e9a28",
   "metadata": {},
   "source": [
    "#### Active Requests"
   ]
  },
  {
   "cell_type": "code",
   "execution_count": null,
   "id": "319fbab1",
   "metadata": {},
   "outputs": [],
   "source": [
    "endpoint = \"https://data.nashville.gov/resource/jwgg-8gg4.json\"\n",
    "\n",
    "response = requests.get(endpoint)\n",
    "incidents = response.json()\n",
    "incidents_df = pd.DataFrame(incidents)\n",
    "\n",
    "incident_counts = incidents_df.groupby('postal_code').count().drop(columns = \n",
    "                                                ['dispatch_time','incident_type','units_dispatched'])\n",
    "incident_counts = incident_counts.rename(columns={'incident_number':'num_incidents'})\n",
    "\n",
    "incident_counts = incident_counts.rename_axis('zip_code').reset_index()"
   ]
  },
  {
   "cell_type": "code",
   "execution_count": null,
   "id": "ece1800d",
   "metadata": {},
   "outputs": [],
   "source": [
    "incident_counts"
   ]
  },
  {
   "cell_type": "markdown",
   "id": "cbf8024f",
   "metadata": {},
   "source": [
    "#### Combine the two dataframes"
   ]
  },
  {
   "cell_type": "code",
   "execution_count": null,
   "id": "b302e13e",
   "metadata": {},
   "outputs": [],
   "source": [
    "station_workload = pd.merge(station_count, incident_counts, how='left', on='zip_code')\n",
    "station_workload['incidents_to_stations_ratio'] = station_workload['num_incidents'] / station_workload['num_stations']"
   ]
  },
  {
   "cell_type": "code",
   "execution_count": null,
   "id": "194f1bad",
   "metadata": {},
   "outputs": [],
   "source": [
    "station_workload.fillna(0)"
   ]
  },
  {
   "cell_type": "markdown",
   "id": "d5e56b11",
   "metadata": {},
   "source": [
    "#### Make a map showing incidents to station ratio, this should show which areas are under the most stress\n",
    "- going to need to switch to geospatial environment to achieve this"
   ]
  },
  {
   "cell_type": "code",
   "execution_count": null,
   "id": "9c0792eb",
   "metadata": {},
   "outputs": [],
   "source": [
    "#geospatial map imports\n",
    "from shapely.geometry import Point\n",
    "import geopandas as gpd\n",
    "import folium\n",
    "from folium.plugins import MarkerCluster\n",
    "from folium.plugins import FastMarkerCluster"
   ]
  },
  {
   "cell_type": "code",
   "execution_count": null,
   "id": "44a0a535",
   "metadata": {},
   "outputs": [],
   "source": [
    "#bring in zipcodes geometry\n",
    "zipcodes = gpd.read_file('C:/Users/theoc/Documents/NSS/Python/data/zipcodes.geojson')"
   ]
  },
  {
   "cell_type": "code",
   "execution_count": null,
   "id": "f5ccf768",
   "metadata": {},
   "outputs": [],
   "source": [
    "zipcodes.head(1)"
   ]
  },
  {
   "cell_type": "code",
   "execution_count": null,
   "id": "300779e6",
   "metadata": {},
   "outputs": [],
   "source": [
    "#change zip_code to zip in station_workload to help with cleaner join and mapping later\n",
    "station_workload = station_workload.rename(columns = {'zip_code':'zip'})"
   ]
  },
  {
   "cell_type": "code",
   "execution_count": null,
   "id": "a485073a",
   "metadata": {},
   "outputs": [],
   "source": [
    "# Join the dataframes\n",
    "zipmap = pd.merge(zipcodes, station_workload, how='left', left_on = 'zip', right_on = 'zip')"
   ]
  },
  {
   "cell_type": "code",
   "execution_count": null,
   "id": "bd6836c0",
   "metadata": {},
   "outputs": [],
   "source": [
    "zipmap = zipmap.fillna(0)"
   ]
  },
  {
   "cell_type": "code",
   "execution_count": null,
   "id": "10971994",
   "metadata": {},
   "outputs": [],
   "source": [
    "#make the plot using matplot lib\n",
    "fig,ax = plt.subplots(figsize=(12,6))\n",
    "zipmap.plot(column = 'incidents_to_stations_ratio', ax=ax, edgecolor='black',cmap = 'Reds',legend=True)\n",
    "ax.axis('off')\n",
    "None"
   ]
  },
  {
   "cell_type": "markdown",
   "id": "903b96eb",
   "metadata": {},
   "source": [
    "## Folium Map"
   ]
  },
  {
   "cell_type": "code",
   "execution_count": null,
   "id": "3e457e77",
   "metadata": {},
   "outputs": [],
   "source": [
    "#make plot using folium\n",
    "\n",
    "#calculate center of nashville\n",
    "cenx =zipmap.geometry.centroid.x.agg('mean')\n",
    "ceny = zipmap.geometry.centroid.y.agg('mean')"
   ]
  },
  {
   "cell_type": "code",
   "execution_count": null,
   "id": "60cfd2bc",
   "metadata": {},
   "outputs": [],
   "source": [
    "#whats the center of 37221\n",
    "centx = zipcodes.loc[zipcodes['zip'] == '37221'].geometry.centroid.x\n",
    "centy = zipcodes.loc[zipcodes['zip'] == '37221'].geometry.centroid.y\n",
    "centy = centy.to_list()\n",
    "centx = centx.to_list()\n",
    "print(centx)"
   ]
  },
  {
   "cell_type": "code",
   "execution_count": null,
   "id": "1a7d2c2b",
   "metadata": {},
   "outputs": [],
   "source": [
    "## Need to clear up the nan in mapped location\n",
    "## for station 34 in zip 37221\n",
    "geostations = pd.DataFrame(stations)\n",
    "\n",
    "delcol = ([ ':@computed_region_gisn_y5cm', \n",
    "           ':@computed_region_sjpq_96s8',':@computed_region_v3ji_vzam',\n",
    "           ':@computed_region_c9xn_skx3',':@computed_region_cfa7_hbpz',\n",
    "            ':@computed_region_f73m_vb2k', 'street_address','city','state'])\n",
    "geostations = geostations.drop(columns=delcol)\n",
    "geostations = geostations.rename(columns = {'zip_code':'zip'})\n",
    "cent37 = {'latitude':centy[0],'longitude':centx[0] }\n",
    "#this is a really important step so when we rerun the notebook the station with null geography can\n",
    "#be dropped\n",
    "geostations = geostations.sort_values(by = 'zip').reset_index(drop=True)\n",
    "#perform the drop\n",
    "geostations = geostations.drop(37)\n",
    "#reset index last time\n",
    "geostations = geostations.reset_index(drop=True)"
   ]
  },
  {
   "cell_type": "code",
   "execution_count": null,
   "id": "05b697ca",
   "metadata": {},
   "outputs": [],
   "source": [
    "geostations"
   ]
  },
  {
   "cell_type": "code",
   "execution_count": null,
   "id": "ff68f2fe",
   "metadata": {},
   "outputs": [],
   "source": [
    "\n",
    "station_list = []\n",
    "zip_list = []\n",
    "long_list = []\n",
    "lat_list = []\n",
    "for index, row in geostations.iterrows():\n",
    "    long_list.append(row['mapped_location'].get('longitude'))\n",
    "    lat_list.append(row['mapped_location'].get('latitude'))\n",
    "    station_list.append(row['station_number'])\n",
    "    zip_list.append(row['zip'])\n",
    "geostations_clean = pd.DataFrame({'station_number':station_list,\n",
    "                                  'zip':zip_list,\n",
    "                                  'long':long_list,\n",
    "                                  'lat':lat_list})\n",
    "geostations_clean.head()"
   ]
  },
  {
   "cell_type": "code",
   "execution_count": null,
   "id": "9d0c9af1",
   "metadata": {},
   "outputs": [],
   "source": []
  },
  {
   "cell_type": "code",
   "execution_count": null,
   "id": "9732ac9e",
   "metadata": {},
   "outputs": [],
   "source": [
    "nashmap = folium.Map(location = [ceny,cenx],zoom_start=10,tiles='stamentoner')\n",
    "\n",
    "folium.Choropleth(geo_data = zipmap, \n",
    "                  data = zipmap, \n",
    "                  columns=['zip','incidents_to_stations_ratio'],\n",
    "                  key_on=\"feature.properties.zip\",\n",
    "                  fill_color='Reds',\n",
    "                  nan_fill_color=\"White\", #Use white color if there is no data available for the county\n",
    "                  fill_opacity=0.8,\n",
    "                  line_opacity=1,\n",
    "                  legend_name='Station Strain', #title of the legend\n",
    "                  highlight=True,\n",
    "                  line_color='black'\n",
    "                  ).add_to(nashmap)\n",
    "# Add fire station markers\n",
    "for index, row in geostations_clean.iterrows():\n",
    "    loc = [row['lat'], row['long']]\n",
    "    pop = str(row['station_number'])\n",
    "\n",
    "   # icon = folium.Icon(color='darkred',icon = 'fire-extinguisher', prefix = 'fa',edgecolor='black')\n",
    "    marker = folium.Circle(location = loc, \n",
    "                           tooltip = pop,\n",
    "                           radius = 350,\n",
    "                           color='black', fill=True, fill_opacity=.6,opacity=.1, \n",
    "                           size=(10,10))\n",
    "    marker.add_to(nashmap)\n",
    "\n",
    "#show map\n",
    "nashmap"
   ]
  },
  {
   "cell_type": "code",
   "execution_count": null,
   "id": "05d0b770",
   "metadata": {},
   "outputs": [],
   "source": []
  }
 ],
 "metadata": {
  "kernelspec": {
   "display_name": "Python 3 (ipykernel)",
   "language": "python",
   "name": "python3"
  },
  "language_info": {
   "codemirror_mode": {
    "name": "ipython",
    "version": 3
   },
   "file_extension": ".py",
   "mimetype": "text/x-python",
   "name": "python",
   "nbconvert_exporter": "python",
   "pygments_lexer": "ipython3",
   "version": "3.8.5"
  }
 },
 "nbformat": 4,
 "nbformat_minor": 5
}
