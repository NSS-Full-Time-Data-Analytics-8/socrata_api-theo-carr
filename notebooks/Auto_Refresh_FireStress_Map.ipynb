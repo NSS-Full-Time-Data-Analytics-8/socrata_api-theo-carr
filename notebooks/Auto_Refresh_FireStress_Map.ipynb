{
 "cells": [
  {
   "cell_type": "code",
   "execution_count": null,
   "id": "c2b037e1",
   "metadata": {},
   "outputs": [],
   "source": [
    "import requests\n",
    "import pandas as pd\n",
    "import matplotlib.pyplot as plt\n",
    "import matplotlib.dates as mdates\n",
    "import time\n",
    "\n",
    "\n"
   ]
  },
  {
   "cell_type": "code",
   "execution_count": null,
   "id": "3cc04722",
   "metadata": {},
   "outputs": [],
   "source": [
    "#geospatial map imports\n",
    "from shapely.geometry import Point\n",
    "import geopandas as gpd\n",
    "import folium\n",
    "from folium.plugins import MarkerCluster\n",
    "from folium.plugins import FastMarkerCluster\n",
    "from folium import IFrame"
   ]
  },
  {
   "cell_type": "markdown",
   "id": "9b1c67e0",
   "metadata": {},
   "source": [
    "# Static Setup (Not Redefined in loop)\n",
    "- Fire Stations DF\n",
    "- Zip Codes DF\n",
    "- geostations\n",
    "- remember that \"zip\" will be the standard column names for "
   ]
  },
  {
   "cell_type": "markdown",
   "id": "4b64cb4c",
   "metadata": {},
   "source": [
    "#### Station Count"
   ]
  },
  {
   "cell_type": "code",
   "execution_count": null,
   "id": "2f4d6e6f",
   "metadata": {},
   "outputs": [],
   "source": [
    "## Bring in FireStations Data\n",
    "endpoint = \"https://data.nashville.gov/resource/frq9-a5iv.json\" #fire stations endpoint\n",
    "\n",
    "response = requests.get(endpoint)\n",
    "stations = response.json()\n",
    "stations_df = pd.DataFrame(stations)\n",
    "delcol = (['mapped_location', ':@computed_region_gisn_y5cm', \n",
    "           ':@computed_region_sjpq_96s8',':@computed_region_v3ji_vzam',\n",
    "           ':@computed_region_c9xn_skx3',':@computed_region_cfa7_hbpz',\n",
    "            ':@computed_region_f73m_vb2k', 'street_address','city','state'])\n",
    "\n"
   ]
  },
  {
   "cell_type": "code",
   "execution_count": null,
   "id": "8d94d73f",
   "metadata": {},
   "outputs": [],
   "source": [
    "station_count = stations_df.groupby('zip_code').count().drop(columns = delcol)\n",
    "station_count = station_count.rename_axis('zip_code').reset_index()\n",
    "station_count = station_count.rename(columns = {'station_number':'num_stations','zip_code':'zip'})"
   ]
  },
  {
   "cell_type": "markdown",
   "id": "781745cc",
   "metadata": {},
   "source": [
    "#### zipcodes"
   ]
  },
  {
   "cell_type": "code",
   "execution_count": null,
   "id": "de0c27db",
   "metadata": {},
   "outputs": [],
   "source": [
    "zipcodes = gpd.read_file('C:/Users/theoc/Documents/NSS/Python/data/zipcodes.geojson')"
   ]
  },
  {
   "cell_type": "markdown",
   "id": "2f0bf541",
   "metadata": {},
   "source": [
    "#### Geostations"
   ]
  },
  {
   "cell_type": "code",
   "execution_count": null,
   "id": "2ec16b7d",
   "metadata": {},
   "outputs": [],
   "source": [
    "geostations = pd.DataFrame(stations)\n",
    "\n",
    "delcol = ([':@computed_region_gisn_y5cm', \n",
    "           ':@computed_region_sjpq_96s8',':@computed_region_v3ji_vzam',\n",
    "           ':@computed_region_c9xn_skx3',':@computed_region_cfa7_hbpz',\n",
    "            ':@computed_region_f73m_vb2k', 'street_address','city','state'])\n",
    "geostations = geostations.drop(columns=delcol)\n",
    "geostations = geostations.rename(columns = {'zip_code':'zip'})\n",
    "\n",
    "#this is a really important step so when we rerun the notebook the station with null geography can\n",
    "#be dropped\n",
    "geostations = geostations.sort_values(by = 'zip').reset_index(drop=True)\n",
    "#perform the drop\n",
    "geostations = geostations.drop(37)\n",
    "#reset index last time\n",
    "geostations = geostations.reset_index(drop=True)"
   ]
  },
  {
   "cell_type": "code",
   "execution_count": null,
   "id": "4157d7c5",
   "metadata": {},
   "outputs": [],
   "source": [
    "station_list = []\n",
    "zip_list = []\n",
    "long_list = []\n",
    "lat_list = []\n",
    "for index, row in geostations.iterrows():\n",
    "    long_list.append(row['mapped_location'].get('longitude'))\n",
    "    lat_list.append(row['mapped_location'].get('latitude'))\n",
    "    station_list.append(row['station_number'])\n",
    "    zip_list.append(row['zip'])\n",
    "geostations_clean = pd.DataFrame({'station_number':station_list,\n",
    "                                  'zip':zip_list,\n",
    "                                  'long':long_list,\n",
    "                                  'lat':lat_list})\n",
    "geostations_clean.head()"
   ]
  },
  {
   "cell_type": "markdown",
   "id": "13397ce0",
   "metadata": {},
   "source": [
    "# Auto Refresh Loop"
   ]
  },
  {
   "cell_type": "code",
   "execution_count": null,
   "id": "6d394063",
   "metadata": {},
   "outputs": [],
   "source": [
    "from datetime import datetime as dt"
   ]
  },
  {
   "cell_type": "code",
   "execution_count": null,
   "id": "c14bff09",
   "metadata": {},
   "outputs": [],
   "source": [
    "photo_path = (\n",
    "\"C:/Users/theoc/Documents/NSS/Python/projects/socrata_api-theo-carr/notebooks/vault_maps/\"\n",
    ")"
   ]
  },
  {
   "cell_type": "code",
   "execution_count": null,
   "id": "2f2f4eac",
   "metadata": {},
   "outputs": [],
   "source": [
    "## already have zipcodes, geostations, and firestations\n",
    "## we need a running dataframe to keep all our results that tracks\n",
    "## add our workload dataframe onto a big running one and collect a large dataset\n",
    "the_vault = pd.DataFrame()\n",
    "t = 0 #iterations\n",
    "\n",
    "while t < 150:\n",
    "    #pull requests from incidents\n",
    "    #join incidents with station count\n",
    "    #make map\n",
    "    #save map and add to dataframe\n",
    "    #sleep for 5.5 minutes\n",
    "    \n",
    "    \n",
    "    ##############################################################\n",
    "    ### GET ACTIVE INCIDENTS ### \n",
    "    endpoint = \"https://data.nashville.gov/resource/jwgg-8gg4.json\"\n",
    "\n",
    "    response = requests.get(endpoint)\n",
    "    incidents = response.json()\n",
    "    incidents_df = pd.DataFrame(incidents)\n",
    "\n",
    "    incident_counts = incidents_df.groupby('postal_code').count().drop(columns = \n",
    "                                                ['dispatch_time','incident_type','units_dispatched'])\n",
    "    incident_counts = incident_counts.rename(columns={'incident_number':'num_incidents'})\n",
    "\n",
    "    incident_counts = incident_counts.rename_axis('zip_code').reset_index()\n",
    "    \n",
    "    incident_counts = incident_counts.rename(columns = {'zip_code':'zip'})\n",
    "    #######################################################################\n",
    "    ### MERGE WITH STATION COUNTS(STATIC) ### \n",
    "    station_workload = pd.merge(station_count, incident_counts, how='left', on='zip')\n",
    "    station_workload['incidents_to_stations_ratio'] = (station_workload['num_incidents'] / \n",
    "                                                       station_workload['num_stations'])\n",
    "    station_workload = station_workload.fillna(0)\n",
    "    ########################################################################\n",
    "    #MAKE ZIPMAP DF \n",
    "    zipmap = pd.merge(zipcodes, station_workload, how='left', left_on = 'zip', right_on = 'zip')\n",
    "    zipmap = zipmap.fillna(0)\n",
    "    ########################################################################\n",
    "    #Make the plot map since we can save it as an image file instead of html\n",
    "    #make the plot using matplot lib\n",
    "    #make the plot using matplot lib\n",
    "    fig,ax = plt.subplots(figsize=(50,30))\n",
    "    zipmap.plot(column = 'incidents_to_stations_ratio', ax=ax, edgecolor='black',\n",
    "                cmap = 'Reds', vmin = 0, vmax = 5,\n",
    "                legend=True)\n",
    "    ax.axis('off')\n",
    "    props = dict(boxstyle='round', facecolor='wheat', alpha=0.5)\n",
    "    ax.text(-.05, 0.95, time.ctime(), transform=ax.transAxes, fontsize=50,\n",
    "            verticalalignment='top', bbox=props)\n",
    "    filepath='C:/Users/theoc/Documents/NSS/Python/projects/socrata_api-theo-carr/notebooks/imgs/night run'\n",
    "    plt.savefig(filepath+'test'+str(t))\n",
    "    plt.close()\n",
    "\n",
    "\n",
    "    ##########################################################################\n",
    "    #MAKE THE MAP!!!! \n",
    "    #get curr time\n",
    "    timestamp = dt.now()\n",
    "    #base map = nashmap\n",
    "    nashmap = folium.Map(location = [36.148385041463946,-86.77666862070282],zoom_start=10,tiles='stamentoner')\n",
    "    #add time stamp\n",
    "    #!!!not figured out yet!!!#\n",
    "    \n",
    "    \n",
    "    #draw the zip boundries\n",
    "    folium.Choropleth(geo_data = zipmap, \n",
    "                      data = zipmap, \n",
    "                      columns=['zip','incidents_to_stations_ratio'],\n",
    "                      key_on=\"feature.properties.zip\",\n",
    "                      fill_color='Reds',\n",
    "                      nan_fill_color=\"White\", #Use white color if there is no data available for the county\n",
    "                      fill_opacity=0.8,\n",
    "                      line_opacity=1,\n",
    "                      legend_name='Station Strain', #title of the legend\n",
    "                      highlight=True,\n",
    "                      line_color='black'\n",
    "                      ).add_to(nashmap)\n",
    "    # Add fire station markers\n",
    "    for index, row in geostations_clean.iterrows():\n",
    "        loc = [row['lat'], row['long']]\n",
    "        pop = str(row['station_number'])\n",
    "\n",
    "       # icon = folium.Icon(color='darkred',icon = 'fire-extinguisher', prefix = 'fa',edgecolor='black')\n",
    "        marker = folium.Circle(location = loc, \n",
    "                               tooltip = pop,\n",
    "                               radius = 350,\n",
    "                               color='black', fill=True, fill_opacity=.6,opacity=.1, \n",
    "                               size=(10,10))\n",
    "        marker.add_to(nashmap)\n",
    "\n",
    "    #save map\n",
    "    timestamp = timestamp.strftime(\"%b-%Hhr-%Mmin\")\n",
    "    ###nashmap.save(photo_path+timestamp+'.html')\n",
    "    ##not saving map for overnight, too memory intensive\n",
    "    ########################################################################\n",
    "    #add time stamp column to station workload\n",
    "    station_workload['timestamp'] = timestamp\n",
    "    #INCREMENT AND SLEEP! #ADD CURRENT DATA TO LARGER FRAME(THE VAULT) \n",
    "    if t == 0: #first iteration\n",
    "        the_vault = station_workload\n",
    "    elif t > 0:\n",
    "        the_vault = pd.concat([the_vault,station_workload])\n",
    "    t += 1\n",
    "    #Sleep for 5.5 minutes = 330 Seconds\n",
    "    time.sleep(320)\n",
    "    #time.sleep(.5)\n",
    "#if we some how make it out of the for loop\n",
    "##prepping the save\n",
    "csv_path = 'C:/Users/theoc/Documents/NSS/Python/projects/socrata_api-theo-carr/notebooks/cookedData/'\n",
    "#save\n",
    "the_vault.to_csv(csv_path+'night_run.csv', index=False)"
   ]
  },
  {
   "cell_type": "markdown",
   "id": "972f4288",
   "metadata": {},
   "source": [
    "# ** UNDER NO CIRCUMSTANCES WILL YOU FORGET TO SAVE YOUR VAULT DATA FRAME **"
   ]
  },
  {
   "cell_type": "code",
   "execution_count": null,
   "id": "7a6e4834",
   "metadata": {},
   "outputs": [],
   "source": [
    "##prepping the save\n",
    "csv_path = 'C:/Users/theoc/Documents/NSS/Python/projects/socrata_api-theo-carr/notebooks/cookedData/'\n",
    "#save\n",
    "the_vault.to_csv(csv_path+'night_run.csv', index=False)"
   ]
  },
  {
   "cell_type": "code",
   "execution_count": null,
   "id": "d2fc4e61",
   "metadata": {},
   "outputs": [],
   "source": []
  }
 ],
 "metadata": {
  "kernelspec": {
   "display_name": "Python 3 (ipykernel)",
   "language": "python",
   "name": "python3"
  },
  "language_info": {
   "codemirror_mode": {
    "name": "ipython",
    "version": 3
   },
   "file_extension": ".py",
   "mimetype": "text/x-python",
   "name": "python",
   "nbconvert_exporter": "python",
   "pygments_lexer": "ipython3",
   "version": "3.9.13"
  }
 },
 "nbformat": 4,
 "nbformat_minor": 5
}
